{
 "cells": [
  {
   "cell_type": "code",
   "execution_count": 2,
   "id": "d98f868a-56d9-41fb-bac7-e874779e5bef",
   "metadata": {},
   "outputs": [
    {
     "name": "stdout",
     "output_type": "stream",
     "text": [
      " * Serving Flask app '__main__'\n",
      " * Debug mode: on\n"
     ]
    },
    {
     "name": "stderr",
     "output_type": "stream",
     "text": [
      "WARNING: This is a development server. Do not use it in a production deployment. Use a production WSGI server instead.\n",
      " * Running on http://127.0.0.1:5000\n",
      "Press CTRL+C to quit\n",
      " * Restarting with watchdog (windowsapi)\n"
     ]
    },
    {
     "ename": "SystemExit",
     "evalue": "1",
     "output_type": "error",
     "traceback": [
      "An exception has occurred, use %tb to see the full traceback.\n",
      "\u001b[1;31mSystemExit\u001b[0m\u001b[1;31m:\u001b[0m 1\n"
     ]
    }
   ],
   "source": [
    "\n",
    "from flask import Flask, render_template, request\n",
    "import requests\n",
    "\n",
    "app = Flask(__name__)\n",
    "\n",
    "# OpenWeatherMap API Anahtarı (Kendi API anahtarını buraya eklemelisin)\n",
    "API_KEY = \"45bcc7c3dbd65cf0a20d35a2261362d9\"\n",
    "\n",
    "# Hava durumu verisini çekme fonksiyonu\n",
    "def get_weather(city):\n",
    "    url = f\"http://api.openweathermap.org/data/2.5/weather?q={city}&appid={API_KEY}&units=metric&lang=tr\"\n",
    "    response = requests.get(url)\n",
    "    data = response.json()\n",
    "    \n",
    "    if response.status_code == 200:\n",
    "        weather_info = {\n",
    "            \"city\": city,\n",
    "            \"temperature\": data[\"main\"][\"temp\"],\n",
    "            \"description\": data[\"weather\"][0][\"description\"],\n",
    "            \"icon\": data[\"weather\"][0][\"icon\"],\n",
    "        }\n",
    "        return weather_info\n",
    "    else:\n",
    "        return None\n",
    "\n",
    "# Ana sayfa route'u\n",
    "@app.route('/', methods=['GET', 'POST'])\n",
    "def index():\n",
    "    weather = None\n",
    "    if request.method == 'POST':\n",
    "        city = request.form['city']\n",
    "        weather = get_weather(city)\n",
    "    return render_template('index.html', weather=weather)\n",
    "\n",
    "if __name__ == '__main__':\n",
    "    app.run(debug=True)"
   ]
  },
  {
   "cell_type": "code",
   "execution_count": null,
   "id": "31264fd6-8b31-4f3b-ad5d-05420f514b06",
   "metadata": {},
   "outputs": [],
   "source": []
  }
 ],
 "metadata": {
  "kernelspec": {
   "display_name": "Python 3 (ipykernel)",
   "language": "python",
   "name": "python3"
  },
  "language_info": {
   "codemirror_mode": {
    "name": "ipython",
    "version": 3
   },
   "file_extension": ".py",
   "mimetype": "text/x-python",
   "name": "python",
   "nbconvert_exporter": "python",
   "pygments_lexer": "ipython3",
   "version": "3.12.3"
  }
 },
 "nbformat": 4,
 "nbformat_minor": 5
}
